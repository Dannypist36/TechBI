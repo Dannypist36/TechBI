{
 "cells": [
  {
   "cell_type": "code",
   "execution_count": 3,
   "id": "01023a3c-759f-43b4-be8e-399d84aabebc",
   "metadata": {},
   "outputs": [],
   "source": [
    "# Data cleaning and exploring libraries\n",
    "import pandas as pd \n",
    "import numpy as np\n",
    "\n",
    "# Data visualization libraries\n",
    "import matplotlib\n",
    "import matplotlib.pyplot as plt\n",
    "import seaborn as sn\n",
    "import plotly.express as px\n",
    "from plotly.subplots import make_subplots \n",
    "\n",
    "import warnings\n",
    "warnings.filterwarnings(\"ignore\")\n",
    "\n"
   ]
  },
  {
   "cell_type": "markdown",
   "id": "315e5a18-2954-46a8-97df-12b7411d2c7c",
   "metadata": {},
   "source": [
    "# Task 1: Data Loading"
   ]
  },
  {
   "cell_type": "raw",
   "id": "602b2d04-a6ea-4746-9390-5e0de02e15cd",
   "metadata": {},
   "source": [
    "# 1. Read the csv file and load it into a panda dataframe\n",
    "# 2. Display the first five rows of your dataframe\n",
    "# 3. Display the data types of the columns"
   ]
  },
  {
   "cell_type": "code",
   "execution_count": 6,
   "id": "2c439cc1-efb7-402c-a695-f454b4bb5425",
   "metadata": {},
   "outputs": [
    {
     "ename": "OSError",
     "evalue": "[Errno 22] Invalid argument: '\\u202aC:\\\\Users\\\\danny\\\\OneDrive\\\\Desktop\\\\PYTHON DATA\\\\AIRBNB DATA ANALYTICS.ipynb-checkpoint-checkpoint.ipynb.csv'",
     "output_type": "error",
     "traceback": [
      "\u001b[1;31m---------------------------------------------------------------------------\u001b[0m",
      "\u001b[1;31mOSError\u001b[0m                                   Traceback (most recent call last)",
      "Cell \u001b[1;32mIn[6], line 2\u001b[0m\n\u001b[0;32m      1\u001b[0m \u001b[38;5;66;03m# 1\u001b[39;00m\n\u001b[1;32m----> 2\u001b[0m dataset \u001b[38;5;241m=\u001b[39m \u001b[43mpd\u001b[49m\u001b[38;5;241;43m.\u001b[39;49m\u001b[43mread_csv\u001b[49m\u001b[43m \u001b[49m\u001b[43m(\u001b[49m\u001b[38;5;124;43m\"\u001b[39;49m\u001b[38;5;124;43m‪C:\u001b[39;49m\u001b[38;5;130;43;01m\\\\\u001b[39;49;00m\u001b[38;5;124;43mUsers\u001b[39;49m\u001b[38;5;130;43;01m\\\\\u001b[39;49;00m\u001b[38;5;124;43mdanny\u001b[39;49m\u001b[38;5;130;43;01m\\\\\u001b[39;49;00m\u001b[38;5;124;43mOneDrive\u001b[39;49m\u001b[38;5;130;43;01m\\\\\u001b[39;49;00m\u001b[38;5;124;43mDesktop\u001b[39;49m\u001b[38;5;130;43;01m\\\\\u001b[39;49;00m\u001b[38;5;124;43mPYTHON DATA\u001b[39;49m\u001b[38;5;130;43;01m\\\\\u001b[39;49;00m\u001b[38;5;124;43mAIRBNB DATA ANALYTICS.ipynb-checkpoint-checkpoint.ipynb.csv\u001b[39;49m\u001b[38;5;124;43m\"\u001b[39;49m\u001b[43m)\u001b[49m\n",
      "File \u001b[1;32m~\\AppData\\Roaming\\Python\\Python312\\site-packages\\pandas\\io\\parsers\\readers.py:1026\u001b[0m, in \u001b[0;36mread_csv\u001b[1;34m(filepath_or_buffer, sep, delimiter, header, names, index_col, usecols, dtype, engine, converters, true_values, false_values, skipinitialspace, skiprows, skipfooter, nrows, na_values, keep_default_na, na_filter, verbose, skip_blank_lines, parse_dates, infer_datetime_format, keep_date_col, date_parser, date_format, dayfirst, cache_dates, iterator, chunksize, compression, thousands, decimal, lineterminator, quotechar, quoting, doublequote, escapechar, comment, encoding, encoding_errors, dialect, on_bad_lines, delim_whitespace, low_memory, memory_map, float_precision, storage_options, dtype_backend)\u001b[0m\n\u001b[0;32m   1013\u001b[0m kwds_defaults \u001b[38;5;241m=\u001b[39m _refine_defaults_read(\n\u001b[0;32m   1014\u001b[0m     dialect,\n\u001b[0;32m   1015\u001b[0m     delimiter,\n\u001b[1;32m   (...)\u001b[0m\n\u001b[0;32m   1022\u001b[0m     dtype_backend\u001b[38;5;241m=\u001b[39mdtype_backend,\n\u001b[0;32m   1023\u001b[0m )\n\u001b[0;32m   1024\u001b[0m kwds\u001b[38;5;241m.\u001b[39mupdate(kwds_defaults)\n\u001b[1;32m-> 1026\u001b[0m \u001b[38;5;28;01mreturn\u001b[39;00m \u001b[43m_read\u001b[49m\u001b[43m(\u001b[49m\u001b[43mfilepath_or_buffer\u001b[49m\u001b[43m,\u001b[49m\u001b[43m \u001b[49m\u001b[43mkwds\u001b[49m\u001b[43m)\u001b[49m\n",
      "File \u001b[1;32m~\\AppData\\Roaming\\Python\\Python312\\site-packages\\pandas\\io\\parsers\\readers.py:620\u001b[0m, in \u001b[0;36m_read\u001b[1;34m(filepath_or_buffer, kwds)\u001b[0m\n\u001b[0;32m    617\u001b[0m _validate_names(kwds\u001b[38;5;241m.\u001b[39mget(\u001b[38;5;124m\"\u001b[39m\u001b[38;5;124mnames\u001b[39m\u001b[38;5;124m\"\u001b[39m, \u001b[38;5;28;01mNone\u001b[39;00m))\n\u001b[0;32m    619\u001b[0m \u001b[38;5;66;03m# Create the parser.\u001b[39;00m\n\u001b[1;32m--> 620\u001b[0m parser \u001b[38;5;241m=\u001b[39m \u001b[43mTextFileReader\u001b[49m\u001b[43m(\u001b[49m\u001b[43mfilepath_or_buffer\u001b[49m\u001b[43m,\u001b[49m\u001b[43m \u001b[49m\u001b[38;5;241;43m*\u001b[39;49m\u001b[38;5;241;43m*\u001b[39;49m\u001b[43mkwds\u001b[49m\u001b[43m)\u001b[49m\n\u001b[0;32m    622\u001b[0m \u001b[38;5;28;01mif\u001b[39;00m chunksize \u001b[38;5;129;01mor\u001b[39;00m iterator:\n\u001b[0;32m    623\u001b[0m     \u001b[38;5;28;01mreturn\u001b[39;00m parser\n",
      "File \u001b[1;32m~\\AppData\\Roaming\\Python\\Python312\\site-packages\\pandas\\io\\parsers\\readers.py:1620\u001b[0m, in \u001b[0;36mTextFileReader.__init__\u001b[1;34m(self, f, engine, **kwds)\u001b[0m\n\u001b[0;32m   1617\u001b[0m     \u001b[38;5;28mself\u001b[39m\u001b[38;5;241m.\u001b[39moptions[\u001b[38;5;124m\"\u001b[39m\u001b[38;5;124mhas_index_names\u001b[39m\u001b[38;5;124m\"\u001b[39m] \u001b[38;5;241m=\u001b[39m kwds[\u001b[38;5;124m\"\u001b[39m\u001b[38;5;124mhas_index_names\u001b[39m\u001b[38;5;124m\"\u001b[39m]\n\u001b[0;32m   1619\u001b[0m \u001b[38;5;28mself\u001b[39m\u001b[38;5;241m.\u001b[39mhandles: IOHandles \u001b[38;5;241m|\u001b[39m \u001b[38;5;28;01mNone\u001b[39;00m \u001b[38;5;241m=\u001b[39m \u001b[38;5;28;01mNone\u001b[39;00m\n\u001b[1;32m-> 1620\u001b[0m \u001b[38;5;28mself\u001b[39m\u001b[38;5;241m.\u001b[39m_engine \u001b[38;5;241m=\u001b[39m \u001b[38;5;28;43mself\u001b[39;49m\u001b[38;5;241;43m.\u001b[39;49m\u001b[43m_make_engine\u001b[49m\u001b[43m(\u001b[49m\u001b[43mf\u001b[49m\u001b[43m,\u001b[49m\u001b[43m \u001b[49m\u001b[38;5;28;43mself\u001b[39;49m\u001b[38;5;241;43m.\u001b[39;49m\u001b[43mengine\u001b[49m\u001b[43m)\u001b[49m\n",
      "File \u001b[1;32m~\\AppData\\Roaming\\Python\\Python312\\site-packages\\pandas\\io\\parsers\\readers.py:1880\u001b[0m, in \u001b[0;36mTextFileReader._make_engine\u001b[1;34m(self, f, engine)\u001b[0m\n\u001b[0;32m   1878\u001b[0m     \u001b[38;5;28;01mif\u001b[39;00m \u001b[38;5;124m\"\u001b[39m\u001b[38;5;124mb\u001b[39m\u001b[38;5;124m\"\u001b[39m \u001b[38;5;129;01mnot\u001b[39;00m \u001b[38;5;129;01min\u001b[39;00m mode:\n\u001b[0;32m   1879\u001b[0m         mode \u001b[38;5;241m+\u001b[39m\u001b[38;5;241m=\u001b[39m \u001b[38;5;124m\"\u001b[39m\u001b[38;5;124mb\u001b[39m\u001b[38;5;124m\"\u001b[39m\n\u001b[1;32m-> 1880\u001b[0m \u001b[38;5;28mself\u001b[39m\u001b[38;5;241m.\u001b[39mhandles \u001b[38;5;241m=\u001b[39m \u001b[43mget_handle\u001b[49m\u001b[43m(\u001b[49m\n\u001b[0;32m   1881\u001b[0m \u001b[43m    \u001b[49m\u001b[43mf\u001b[49m\u001b[43m,\u001b[49m\n\u001b[0;32m   1882\u001b[0m \u001b[43m    \u001b[49m\u001b[43mmode\u001b[49m\u001b[43m,\u001b[49m\n\u001b[0;32m   1883\u001b[0m \u001b[43m    \u001b[49m\u001b[43mencoding\u001b[49m\u001b[38;5;241;43m=\u001b[39;49m\u001b[38;5;28;43mself\u001b[39;49m\u001b[38;5;241;43m.\u001b[39;49m\u001b[43moptions\u001b[49m\u001b[38;5;241;43m.\u001b[39;49m\u001b[43mget\u001b[49m\u001b[43m(\u001b[49m\u001b[38;5;124;43m\"\u001b[39;49m\u001b[38;5;124;43mencoding\u001b[39;49m\u001b[38;5;124;43m\"\u001b[39;49m\u001b[43m,\u001b[49m\u001b[43m \u001b[49m\u001b[38;5;28;43;01mNone\u001b[39;49;00m\u001b[43m)\u001b[49m\u001b[43m,\u001b[49m\n\u001b[0;32m   1884\u001b[0m \u001b[43m    \u001b[49m\u001b[43mcompression\u001b[49m\u001b[38;5;241;43m=\u001b[39;49m\u001b[38;5;28;43mself\u001b[39;49m\u001b[38;5;241;43m.\u001b[39;49m\u001b[43moptions\u001b[49m\u001b[38;5;241;43m.\u001b[39;49m\u001b[43mget\u001b[49m\u001b[43m(\u001b[49m\u001b[38;5;124;43m\"\u001b[39;49m\u001b[38;5;124;43mcompression\u001b[39;49m\u001b[38;5;124;43m\"\u001b[39;49m\u001b[43m,\u001b[49m\u001b[43m \u001b[49m\u001b[38;5;28;43;01mNone\u001b[39;49;00m\u001b[43m)\u001b[49m\u001b[43m,\u001b[49m\n\u001b[0;32m   1885\u001b[0m \u001b[43m    \u001b[49m\u001b[43mmemory_map\u001b[49m\u001b[38;5;241;43m=\u001b[39;49m\u001b[38;5;28;43mself\u001b[39;49m\u001b[38;5;241;43m.\u001b[39;49m\u001b[43moptions\u001b[49m\u001b[38;5;241;43m.\u001b[39;49m\u001b[43mget\u001b[49m\u001b[43m(\u001b[49m\u001b[38;5;124;43m\"\u001b[39;49m\u001b[38;5;124;43mmemory_map\u001b[39;49m\u001b[38;5;124;43m\"\u001b[39;49m\u001b[43m,\u001b[49m\u001b[43m \u001b[49m\u001b[38;5;28;43;01mFalse\u001b[39;49;00m\u001b[43m)\u001b[49m\u001b[43m,\u001b[49m\n\u001b[0;32m   1886\u001b[0m \u001b[43m    \u001b[49m\u001b[43mis_text\u001b[49m\u001b[38;5;241;43m=\u001b[39;49m\u001b[43mis_text\u001b[49m\u001b[43m,\u001b[49m\n\u001b[0;32m   1887\u001b[0m \u001b[43m    \u001b[49m\u001b[43merrors\u001b[49m\u001b[38;5;241;43m=\u001b[39;49m\u001b[38;5;28;43mself\u001b[39;49m\u001b[38;5;241;43m.\u001b[39;49m\u001b[43moptions\u001b[49m\u001b[38;5;241;43m.\u001b[39;49m\u001b[43mget\u001b[49m\u001b[43m(\u001b[49m\u001b[38;5;124;43m\"\u001b[39;49m\u001b[38;5;124;43mencoding_errors\u001b[39;49m\u001b[38;5;124;43m\"\u001b[39;49m\u001b[43m,\u001b[49m\u001b[43m \u001b[49m\u001b[38;5;124;43m\"\u001b[39;49m\u001b[38;5;124;43mstrict\u001b[39;49m\u001b[38;5;124;43m\"\u001b[39;49m\u001b[43m)\u001b[49m\u001b[43m,\u001b[49m\n\u001b[0;32m   1888\u001b[0m \u001b[43m    \u001b[49m\u001b[43mstorage_options\u001b[49m\u001b[38;5;241;43m=\u001b[39;49m\u001b[38;5;28;43mself\u001b[39;49m\u001b[38;5;241;43m.\u001b[39;49m\u001b[43moptions\u001b[49m\u001b[38;5;241;43m.\u001b[39;49m\u001b[43mget\u001b[49m\u001b[43m(\u001b[49m\u001b[38;5;124;43m\"\u001b[39;49m\u001b[38;5;124;43mstorage_options\u001b[39;49m\u001b[38;5;124;43m\"\u001b[39;49m\u001b[43m,\u001b[49m\u001b[43m \u001b[49m\u001b[38;5;28;43;01mNone\u001b[39;49;00m\u001b[43m)\u001b[49m\u001b[43m,\u001b[49m\n\u001b[0;32m   1889\u001b[0m \u001b[43m\u001b[49m\u001b[43m)\u001b[49m\n\u001b[0;32m   1890\u001b[0m \u001b[38;5;28;01massert\u001b[39;00m \u001b[38;5;28mself\u001b[39m\u001b[38;5;241m.\u001b[39mhandles \u001b[38;5;129;01mis\u001b[39;00m \u001b[38;5;129;01mnot\u001b[39;00m \u001b[38;5;28;01mNone\u001b[39;00m\n\u001b[0;32m   1891\u001b[0m f \u001b[38;5;241m=\u001b[39m \u001b[38;5;28mself\u001b[39m\u001b[38;5;241m.\u001b[39mhandles\u001b[38;5;241m.\u001b[39mhandle\n",
      "File \u001b[1;32m~\\AppData\\Roaming\\Python\\Python312\\site-packages\\pandas\\io\\common.py:873\u001b[0m, in \u001b[0;36mget_handle\u001b[1;34m(path_or_buf, mode, encoding, compression, memory_map, is_text, errors, storage_options)\u001b[0m\n\u001b[0;32m    868\u001b[0m \u001b[38;5;28;01melif\u001b[39;00m \u001b[38;5;28misinstance\u001b[39m(handle, \u001b[38;5;28mstr\u001b[39m):\n\u001b[0;32m    869\u001b[0m     \u001b[38;5;66;03m# Check whether the filename is to be opened in binary mode.\u001b[39;00m\n\u001b[0;32m    870\u001b[0m     \u001b[38;5;66;03m# Binary mode does not support 'encoding' and 'newline'.\u001b[39;00m\n\u001b[0;32m    871\u001b[0m     \u001b[38;5;28;01mif\u001b[39;00m ioargs\u001b[38;5;241m.\u001b[39mencoding \u001b[38;5;129;01mand\u001b[39;00m \u001b[38;5;124m\"\u001b[39m\u001b[38;5;124mb\u001b[39m\u001b[38;5;124m\"\u001b[39m \u001b[38;5;129;01mnot\u001b[39;00m \u001b[38;5;129;01min\u001b[39;00m ioargs\u001b[38;5;241m.\u001b[39mmode:\n\u001b[0;32m    872\u001b[0m         \u001b[38;5;66;03m# Encoding\u001b[39;00m\n\u001b[1;32m--> 873\u001b[0m         handle \u001b[38;5;241m=\u001b[39m \u001b[38;5;28;43mopen\u001b[39;49m\u001b[43m(\u001b[49m\n\u001b[0;32m    874\u001b[0m \u001b[43m            \u001b[49m\u001b[43mhandle\u001b[49m\u001b[43m,\u001b[49m\n\u001b[0;32m    875\u001b[0m \u001b[43m            \u001b[49m\u001b[43mioargs\u001b[49m\u001b[38;5;241;43m.\u001b[39;49m\u001b[43mmode\u001b[49m\u001b[43m,\u001b[49m\n\u001b[0;32m    876\u001b[0m \u001b[43m            \u001b[49m\u001b[43mencoding\u001b[49m\u001b[38;5;241;43m=\u001b[39;49m\u001b[43mioargs\u001b[49m\u001b[38;5;241;43m.\u001b[39;49m\u001b[43mencoding\u001b[49m\u001b[43m,\u001b[49m\n\u001b[0;32m    877\u001b[0m \u001b[43m            \u001b[49m\u001b[43merrors\u001b[49m\u001b[38;5;241;43m=\u001b[39;49m\u001b[43merrors\u001b[49m\u001b[43m,\u001b[49m\n\u001b[0;32m    878\u001b[0m \u001b[43m            \u001b[49m\u001b[43mnewline\u001b[49m\u001b[38;5;241;43m=\u001b[39;49m\u001b[38;5;124;43m\"\u001b[39;49m\u001b[38;5;124;43m\"\u001b[39;49m\u001b[43m,\u001b[49m\n\u001b[0;32m    879\u001b[0m \u001b[43m        \u001b[49m\u001b[43m)\u001b[49m\n\u001b[0;32m    880\u001b[0m     \u001b[38;5;28;01melse\u001b[39;00m:\n\u001b[0;32m    881\u001b[0m         \u001b[38;5;66;03m# Binary mode\u001b[39;00m\n\u001b[0;32m    882\u001b[0m         handle \u001b[38;5;241m=\u001b[39m \u001b[38;5;28mopen\u001b[39m(handle, ioargs\u001b[38;5;241m.\u001b[39mmode)\n",
      "\u001b[1;31mOSError\u001b[0m: [Errno 22] Invalid argument: '\\u202aC:\\\\Users\\\\danny\\\\OneDrive\\\\Desktop\\\\PYTHON DATA\\\\AIRBNB DATA ANALYTICS.ipynb-checkpoint-checkpoint.ipynb.csv'"
     ]
    }
   ],
   "source": [
    "# 1\n",
    "dataset = pd.read_csv (\"‪C:\\\\Users\\\\danny\\\\OneDrive\\\\Desktop\\\\PYTHON DATA\\\\AIRBNB DATA ANALYTICS.ipynb-checkpoint-checkpoint.ipynb.csv\")"
   ]
  },
  {
   "cell_type": "code",
   "execution_count": null,
   "id": "c996107d-1869-4da1-a07b-8adc2ed0a882",
   "metadata": {},
   "outputs": [],
   "source": [
    "# 2\n",
    "dataset.head(5)"
   ]
  },
  {
   "cell_type": "code",
   "execution_count": null,
   "id": "d5344c23-40fd-4c44-a436-ac53ae2b1011",
   "metadata": {},
   "outputs": [],
   "source": [
    "# 3\n",
    "dataset.dtypes"
   ]
  },
  {
   "cell_type": "raw",
   "id": "b8a26002-6ddc-427c-939b-ce94c418345b",
   "metadata": {},
   "source": [
    "# 1.  Drop some of the unwanted columns. These include host id, id , country and \n",
    "      country code from the dataset\n",
    "# 2. State the reason  for not including these columns for your data analytics"
   ]
  },
  {
   "cell_type": "code",
   "execution_count": null,
   "id": "7406df7d-d779-4618-ae3f-5f0289f15e44",
   "metadata": {},
   "outputs": [],
   "source": [
    "# 1\n",
    "\n",
    "## Create list of columns to drop\n",
    "columns_to_drop = ['host id', 'id', 'country', 'country code']\n",
    "\n",
    "## Drop columns from dataframe and save in new dataframe\n",
    "airbnb_dataset =dataset.drop(columns_to_drop, axis=1)\n",
    "\n",
    "airbnb_dataset.head(5)"
   ]
  },
  {
   "cell_type": "raw",
   "id": "24f33a5d-f590-40df-9415-6a825ce75fc9",
   "metadata": {},
   "source": [
    "# 2\n",
    "The process of dropping unwanted columns from a dataset is essential, especially when \n",
    "you have a large dataset to deal with. Most often, some specific columns are not useful\n",
    "at all to the analysis. Keeping it may lead to complications so I have to delete those \n",
    "columns. Dropping unwanted columns would help me focus on the most important data and\n",
    "improve the effectiveness of the analysis."
   ]
  },
  {
   "cell_type": "markdown",
   "id": "57ba5464-8610-4ce9-94a2-0b36c93b21ef",
   "metadata": {},
   "source": [
    "# Task 2b: Data Cleaning"
   ]
  },
  {
   "cell_type": "markdown",
   "id": "ecea0eb0-441c-404a-b9b8-47b3b59e3438",
   "metadata": {},
   "source": [
    "# 1. Check for missing values in the dataframe and display the count in ascending order. \n",
    "# If the values are missing impute the values as per the data type of the column\n",
    "# 2. Check whether there are any duplicate values in the dataframe, and if present, remove them\n",
    "# 3. Display the total number of records in the dataframe after removing the duplicates."
   ]
  },
  {
   "cell_type": "code",
   "execution_count": null,
   "id": "79542d05-d915-41de-a14e-d8195142097e",
   "metadata": {},
   "outputs": [],
   "source": [
    "# 1.  Check for missing values in the dataframe and display the count in ascending order.\n",
    "missing_values = airbnb_dataset.isnull().sum().sort_values(ascending=True)\n",
    "missing_values"
   ]
  },
  {
   "cell_type": "code",
   "execution_count": null,
   "id": "a638af16-291c-414a-b764-3f0b347dcbec",
   "metadata": {},
   "outputs": [],
   "source": [
    "# 1b Impute missing values based on column data types\n",
    "for column in airbnb_dataset.columns:\n",
    "    if airbnb_dataset[column].dtype == 'object': \n",
    "        \n",
    "        # Impute missing values with an empty string for object/string columns\n",
    "        airbnb_dataset[column].fillna('', inplace=True)\n",
    "    else: \n",
    "        # Impute missing values with the mean for numeric columns\n",
    "        airbnb_dataset[column].fillna(airbnb_dataset[column].mean(), inplace=True)\n",
    "\n",
    "airbnb_dataset.head(2)"
   ]
  },
  {
   "cell_type": "code",
   "execution_count": null,
   "id": "4ecd38eb-712d-48df-be76-e372e9ff31f3",
   "metadata": {},
   "outputs": [],
   "source": [
    "airbnb_dataset=airbnb_dataset.drop(['house_rules', 'license', 'last review', 'calculated host listings count', 'availability 365', 'review rate number', 'reviews per month',], axis=1)"
   ]
  },
  {
   "cell_type": "code",
   "execution_count": null,
   "id": "b0416208-b28e-4445-92af-5977100e2033",
   "metadata": {},
   "outputs": [],
   "source": [
    "airbnb_dataset.head(2)"
   ]
  },
  {
   "cell_type": "code",
   "execution_count": null,
   "id": "e7dd5d45-6c6b-40c0-b69e-0c75bd146f52",
   "metadata": {},
   "outputs": [],
   "source": [
    "# 2 Check whether there are any duplicate values in the dataframe and if present remove them.\n",
    "\n",
    "initial_records = len(airbnb_dataset)\n",
    "initial_records"
   ]
  },
  {
   "cell_type": "code",
   "execution_count": null,
   "id": "77955864-b6f1-4505-a43a-72a58a8db16a",
   "metadata": {},
   "outputs": [],
   "source": []
  },
  {
   "cell_type": "code",
   "execution_count": null,
   "id": "739abeac-5251-430b-8169-32318ab54b08",
   "metadata": {},
   "outputs": [],
   "source": [
    "airbnb_dataset.drop_duplicates(keep=False, inplace=True)"
   ]
  },
  {
   "cell_type": "code",
   "execution_count": null,
   "id": "7df7bbe8-98f9-40fa-a0bb-5071148e728f",
   "metadata": {},
   "outputs": [],
   "source": [
    "airbnb_dataset.duplicated().sum()"
   ]
  },
  {
   "cell_type": "code",
   "execution_count": null,
   "id": "93d77bdf-e094-4f14-9849-cc8d769159a2",
   "metadata": {},
   "outputs": [],
   "source": []
  },
  {
   "cell_type": "code",
   "execution_count": null,
   "id": "be232528-34b6-401a-ac04-e214e33c86c3",
   "metadata": {},
   "outputs": [],
   "source": [
    "# Display the total number of records in the dataframe after removing the duplicates.\n",
    "\n",
    "airbnb_dataset.drop_duplicates(inplace=True)\n",
    "final_records = len(airbnb_dataset)\n",
    "\n",
    "final_records"
   ]
  },
  {
   "cell_type": "markdown",
   "id": "d6fa6eed-1d4d-4b1f-998e-49d0e1f5cf8b",
   "metadata": {},
   "source": [
    "# Task 3: Data Transformation "
   ]
  },
  {
   "cell_type": "raw",
   "id": "591a004e-582d-4387-93e5-81cc226a3012",
   "metadata": {},
   "source": [
    "\n",
    "    # Rename the column availability 365 to days_booked\n",
    "    # Convert all column names to lowercase and replace the spaces in the column names with an underscore \"_\".\n",
    "    # Remove the dollar sign and comma from the columns price and service_fee. If necessary, convert these \n",
    "      two columns to the appropriate data type.\n"
   ]
  },
  {
   "cell_type": "code",
   "execution_count": null,
   "id": "580a4c35-f587-44bf-861f-5134651ab1d0",
   "metadata": {},
   "outputs": [],
   "source": [
    "# 1\n",
    "airbnb_dataset.rename(columns={'availability 365': 'days_booked'}, inplace=True)\n",
    "airbnb_dataset.head(5)"
   ]
  },
  {
   "cell_type": "code",
   "execution_count": null,
   "id": "9528b653-dfe6-40ad-8462-6a54411a5b2e",
   "metadata": {},
   "outputs": [],
   "source": [
    "# Convert all column names to lowercase and replace the spaces with an underscore \"_\"\n",
    "airbnb_dataset.columns = airbnb_dataset.columns.str.lower().str.replace(' ', '_')\n",
    "airbnb_dataset.head(3)"
   ]
  },
  {
   "cell_type": "code",
   "execution_count": null,
   "id": "84d26d67-2127-4435-be0e-9d33059f9a2e",
   "metadata": {},
   "outputs": [],
   "source": [
    "## Remove the dollar sign and comma from the columns. If necessary, convert these two columns to the appropriate data type.\n",
    "airbnb_dataset['price'] = airbnb_dataset['price'].replace({'\\$': '', ',': ''}, regex=True)\n",
    "\n",
    "\n",
    "airbnb_dataset['service_fee'] = airbnb_dataset['service_fee'].replace({'\\$': '', ',': ''}, regex=True)\n",
    "\n",
    "\n",
    "airbnb_dataset.head(2)"
   ]
  },
  {
   "cell_type": "markdown",
   "id": "9bfee10e-0c20-46d5-b90b-a656fb6fc283",
   "metadata": {},
   "source": [
    "# Task 4: Exploratory Data Analysis"
   ]
  },
  {
   "cell_type": "code",
   "execution_count": null,
   "id": "c77afb0b-e86e-417c-a516-27a83e95565d",
   "metadata": {},
   "outputs": [],
   "source": [
    "# List the count of various room types available in the dataset.\n",
    "# Which room type has the most strict cancellation policy?\n",
    "# List the average price per neighborhood group, and highlight the most expensive neighborhood to rent from"
   ]
  },
  {
   "cell_type": "code",
   "execution_count": null,
   "id": "fa36207d-cb05-4246-ad8d-9dd49adacbd7",
   "metadata": {},
   "outputs": [],
   "source": [
    "# List the count of various room types available with Airbnb\n",
    "room_type_counts = airbnb_dataset['room_type'].value_counts()\n",
    "room_type_counts"
   ]
  },
  {
   "cell_type": "code",
   "execution_count": null,
   "id": "5c37d25d-d7e1-4f76-a294-b8b8a2847a3f",
   "metadata": {},
   "outputs": [],
   "source": [
    "# # Which room type adheres to more strict cancellation policy\n",
    "\n",
    "# Count by strict cancellation policy = strict by room type and find the mean occurrence across room types\n",
    "average_cancellation = airbnb_dataset.groupby('room_type')['cancellation_policy'].apply(lambda x: (x == 'strict').mean())\n",
    "\n",
    "room_type_most_strict = average_cancellation.idxmax()\n",
    "\n",
    "room_type_most_strict"
   ]
  },
  {
   "cell_type": "code",
   "execution_count": null,
   "id": "0d6dc3db-91eb-4d1d-ad57-9cd92dd09907",
   "metadata": {},
   "outputs": [],
   "source": [
    "## List the average prices by neighborhood, sort most expensive to least\n",
    "airbnb_dataset['price'] = pd.to_numeric(airbnb_dataset['price'], errors='coerce')\n",
    "average_price_neighbourhood = airbnb_dataset.groupby('neighbourhood')['price'].mean().sort_values(ascending=False)\n",
    "\n",
    "average_price_neighbourhood"
   ]
  },
  {
   "cell_type": "code",
   "execution_count": null,
   "id": "710d0e08-8965-4e2e-bae0-8b7ac22ea08e",
   "metadata": {},
   "outputs": [],
   "source": [
    "# Remove any empty values of neighbourhood group or neighbourhood which might dispute the analysis later on\n",
    "airbnb_clean = airbnb_dataset[(airbnb_dataset['neighbourhood_group'] != '') & (airbnb_dataset['neighbourhood'] != '')]\n",
    "\n",
    "## List the average prices by neighborhood group, sort most expensive to least\n",
    "average_price_neighbourhood_group = airbnb_clean.groupby('neighbourhood_group')['price'].mean().sort_values(ascending=False)\n",
    "average_price_neighbourhood_group\n"
   ]
  },
  {
   "cell_type": "code",
   "execution_count": null,
   "id": "b588a7af-72d0-45f6-8c2a-4e64d9218300",
   "metadata": {},
   "outputs": [],
   "source": [
    "# Get the most expensive neighborhood\n",
    "most_expensive_neighbourhood = average_price_neighbourhood.idxmax()\n",
    "most_expensive_neighbourhood"
   ]
  },
  {
   "cell_type": "code",
   "execution_count": null,
   "id": "f52b05c8-c636-43da-a190-3ac5dc2e32a0",
   "metadata": {},
   "outputs": [],
   "source": [
    "# Get the most expensive neighborhood group\n",
    "most_expensive_neighbourhood_group = average_price_neighbourhood_group.idxmax()\n",
    "most_expensive_neighbourhood_group"
   ]
  },
  {
   "cell_type": "raw",
   "id": "fef4d2c8-5355-4166-9f63-4167d2d90a76",
   "metadata": {},
   "source": [
    "# NOTE\n",
    "\n",
    "Because there is missing data in the neighbourhood group which requires another level of data sorting to \n",
    "cross reference longitude and latitude to determine where the listing belongs to, the results might not be \n",
    "as accurate as you can see in the mean price of the neighbourhood group with the most expensive average \n",
    "belonging to a non-filled data.Therefore an alternative but slightly more detailed analysis into the most \n",
    "expensive or cheapest neighhourhood would be to look at the neighbourhoods themselves, showing the following:\n",
    "\n",
    "Most expensive neighbourhood group: Queens at average price of $629.62.\n",
    "\n",
    "Most expensive neighbourhood: New Dorp at average price of $1045.33.\n"
   ]
  },
  {
   "cell_type": "markdown",
   "id": "834f8be5-03c8-423a-9147-eda86acf29e8",
   "metadata": {},
   "source": [
    "# Task 5a: Data Visualization "
   ]
  },
  {
   "cell_type": "raw",
   "id": "721a7d26-995b-4c81-ae37-6b7dfc68037a",
   "metadata": {},
   "source": [
    "# 1. Create a horizontal bar chart to display the top 10 most expensive neighborhoods in the dataset.\n",
    "        Create another chart with the 10 cheapest neighborhoods in the dataset.\n",
    "# 2. Create a box and whisker chart that showcases the price distribution of all listings split by room type.\n"
   ]
  },
  {
   "cell_type": "code",
   "execution_count": null,
   "id": "c507bb7c-da08-4a17-b2e2-213aa6cf7cdf",
   "metadata": {},
   "outputs": [],
   "source": [
    "# 1. Create a horizontal bar chart to display the top 10 most expensive neighborhoods in the dataset.Create another chart with the 10 cheapest neighborhoods in the dataset.\n",
    "\n",
    "# Top 10 most expensive neighbourhoods\n",
    "top_10 = average_price_neighbourhood.head(10)\n",
    "top_10"
   ]
  },
  {
   "cell_type": "code",
   "execution_count": null,
   "id": "2dad4044-7923-488e-815f-9770df1cc60d",
   "metadata": {},
   "outputs": [],
   "source": [
    "# Display horizontal bar chart using seaborn\n",
    "plt.figure(figsize=(10, 8))\n",
    "plt.figure(figsize=(10, 6))\n",
    "plt.barh(top_10.index, top_10.values, color='blue')\n",
    "\n",
    "# Add Labels\n",
    "plt.xlabel('Average Price ($)')\n",
    "plt.ylabel('Neighborhoods')\n",
    "plt.title('Top 10 Most Expensive Neighborhoods')\n",
    "plt.gca().invert_yaxis()  # Invert the y-axis to display highest price at the top\n",
    "\n",
    "# Add details\n",
    "plt.xticks(rotation=45, ha='right')\n",
    "plt.yticks(fontsize=10)\n",
    "plt.grid(axis='x', linestyle='--')\n",
    "\n",
    "# Add data labels to the bars\n",
    "for index, value in enumerate(top_10.values):\n",
    "    plt.text(value, index, f'${value:.2f}', va='center')\n",
    "\n",
    "# Display Chart\n",
    "plt.tight_layout()\n",
    "plt.show()"
   ]
  },
  {
   "cell_type": "code",
   "execution_count": null,
   "id": "8cf85dbb-73ae-4cad-b9c9-d70148f35e76",
   "metadata": {},
   "outputs": [],
   "source": [
    "# Display the 10 cheapest neighborhoods\n",
    "bottom_10 = average_price_neighbourhood.tail(10)\n",
    "bottom_10"
   ]
  },
  {
   "cell_type": "code",
   "execution_count": null,
   "id": "f5bd4d44-fcd1-42c6-bd3c-2be932e07e91",
   "metadata": {},
   "outputs": [],
   "source": [
    "# Create the horizontal bar chart, # Invert the y-axis to display lowest price at the bottom\n",
    "plt.figure(figsize=(10, 6))\n",
    "plt.barh(bottom_10.index, bottom_10.values, color='orange')\n",
    "plt.xlabel('Average Price ($)')\n",
    "plt.ylabel('Neighborhoods')\n",
    "plt.title('Top 10 Cheapest Neighborhoods')\n",
    "plt.gca().invert_yaxis()  \n",
    "# Add details\n",
    "plt.xticks(rotation=45, ha='right')\n",
    "plt.yticks(fontsize=10)\n",
    "plt.grid(axis='x', linestyle='--')\n",
    "\n",
    "# Add data labels to the bars\n",
    "for index, value in enumerate(bottom_10.values):\n",
    "    plt.text(value, index, f'${value:.2f}', va='center')\n",
    "\n",
    "# Display Chart\n",
    "plt.tight_layout()\n",
    "plt.show()\n",
    "\n"
   ]
  },
  {
   "cell_type": "code",
   "execution_count": null,
   "id": "5ab2712c-ce22-457a-93dd-5a4210d53207",
   "metadata": {},
   "outputs": [],
   "source": [
    "# Create a box and whisker chart\n",
    "plt.figure(figsize=(10, 6))\n",
    "ax = sns.boxplot(x='room_type', y='price', data=airbnb_dataset)\n",
    "plt.xlabel('Room Type')\n",
    "plt.ylabel('Price')\n",
    "plt.title('Price Distribution of Listings by Room Type')\n",
    "plt.xticks(rotation=45)\n",
    "\n",
    "# Add label for median\n",
    "medians = airbnb_dataset.groupby('room_type')['price'].median()\n",
    "room_types = airbnb_dataset['room_type'].unique()\n",
    "\n",
    "for xtick, label in enumerate(ax.get_xticklabels()):\n",
    "    ax.text(xtick, medians[xtick] - 100, f\"Median: ${medians[xtick]:.2f}\", \n",
    "            ha='center', va='top', fontsize=10)\n",
    "\n",
    "plt.xticks(range(len(room_types)), room_types)  # Set custom x-tick labels\n",
    "plt.tight_layout()\n",
    "plt.show()"
   ]
  },
  {
   "cell_type": "markdown",
   "id": "ce6429c3-8cf3-45a8-a20c-f8ef6c73159c",
   "metadata": {},
   "source": [
    "# Task 5b: Data Visualization"
   ]
  },
  {
   "cell_type": "raw",
   "id": "ea6fa5ef-431f-47d2-8256-0f332bf319a9",
   "metadata": {},
   "source": [
    "# Create a scatter plot to illustrate the relationshi between the cleaning fee and the room price and write \n",
    "down the kind of correlation, if any, that you see.\n",
    "# Create a line chart to showcase the total amount of listings available per year.\n"
   ]
  },
  {
   "cell_type": "code",
   "execution_count": null,
   "id": "14b35102-8142-4dc0-b488-de3e2f60a733",
   "metadata": {},
   "outputs": [],
   "source": [
    "plt.scatter( x = 'service_fee', y = 'price', data = airbnb_dataset) \n",
    "# Add details\n",
    "plt.xlabel('service Fee')\n",
    "plt.ylabel('price')\n",
    "plt.title('Relationship between Service Fee and Room Price')"
   ]
  },
  {
   "cell_type": "markdown",
   "id": "8ee6d055-7a2f-4fac-9334-0458ea574d12",
   "metadata": {},
   "source": [
    "# NOETEabs\n",
    "# There is a positive relationship between the room price to the service fee shown in the scatter plot after converting the service fee to numeric values and removing the non-numeric alues to NaN. It seems the higher the room price, the higher the service fee is."
   ]
  },
  {
   "cell_type": "markdown",
   "id": "2cbb9c1f-9340-4905-9e77-672842892cf6",
   "metadata": {},
   "source": [
    "# Task 5c: Data Visualization"
   ]
  },
  {
   "cell_type": "code",
   "execution_count": null,
   "id": "2f4e6a07-7465-4a2a-bacf-a7ca72aed048",
   "metadata": {},
   "outputs": [],
   "source": [
    "# Are verified host generally more expensive?\n",
    "# Create a box plot or violin plot to compare prices for verified and unverified users\n",
    "plt.figure(figsize=(10, 6))\n",
    "ax = sns.violinplot(x='host_identity_verified', y='price', data=verified_airbnb)\n",
    "plt.xlabel('Host Identity Verified')\n",
    "plt.ylabel('Price')\n",
    "plt.title('Price Distribution for Verified and Unverified Users')\n",
    "plt.xticks([0, 1], ['Unverified', 'Verified'])\n",
    "\n",
    "# Add labels for median and interquartile ranges\n",
    "medians = verified_airbnb.groupby('host_identity_verified')['price'].median()\n",
    "q1 = verified_airbnb.groupby('host_identity_verified')['price'].quantile(0.25)\n",
    "q3 = verified_airbnb.groupby('host_identity_verified')['price'].quantile(0.75)\n",
    "\n",
    "for xtick, label in enumerate(ax.get_xticklabels()):\n",
    "    ax.annotate(f\"Median: ${medians[xtick]:.2f}\", (xtick, medians[xtick]), \n",
    "                xytext=(5, 5), textcoords='offset points', ha='center', va='bottom', fontsize=10)\n",
    "    ax.annotate(f\"IQR: ${q1[xtick]:.2f} - ${q3[xtick]:.2f}\", (xtick, q3[xtick]), \n",
    "                xytext=(5, -110), textcoords='offset points', ha='center', va='bottom', fontsize=10)\n",
    "\n",
    "\n",
    "plt.tight_layout()\n",
    "plt.show()"
   ]
  },
  {
   "cell_type": "raw",
   "id": "da4e363a-d6b3-41d5-ade3-a91a3843cd41",
   "metadata": {},
   "source": [
    "What is the spread of verified host and unverified hosts across neighbourhood groups?"
   ]
  },
  {
   "cell_type": "code",
   "execution_count": null,
   "id": "897a14c7-aefa-45f0-8a60-53b66049ea1d",
   "metadata": {},
   "outputs": [],
   "source": []
  },
  {
   "cell_type": "code",
   "execution_count": null,
   "id": "e8026c96-0b14-49c5-b77a-59bb03952e8a",
   "metadata": {},
   "outputs": [],
   "source": [
    "# Group the data by 'neighbourhood_group' and 'host_identity_verified', and count the occurrences\n",
    "grouped_hosts = verified_airbnb.groupby(['neighbourhood_group', 'host_identity_verified']).size().unstack()\n",
    "\n",
    "# Create a heatmap to show the spread of verified and unverified hosts across neighborhood groups\n",
    "plt.figure(figsize=(10, 6))\n",
    "sns.heatmap(grouped_hosts, annot=True, cmap='YlGnBu', linewidths=0.5)\n",
    "\n",
    "plt.xlabel('Host Identity')\n",
    "plt.ylabel('Neighborhood Group')\n",
    "plt.title('Spread of Verified and Unverified Hosts Across Neighborhood Groups')\n",
    "plt.xticks(ticks=[0.5, 1.5], labels=['Unverified', 'Verified'])\n",
    "plt.yticks(rotation=0)\n",
    "\n",
    "plt.tight_layout()\n",
    "plt.show()"
   ]
  },
  {
   "cell_type": "code",
   "execution_count": 2,
   "id": "4c4a49ed-908a-4f66-86aa-b69d8829d0c3",
   "metadata": {},
   "outputs": [
    {
     "name": "stdout",
     "output_type": "stream",
     "text": [
      "Collecting plotlyNote: you may need to restart the kernel to use updated packages.\n",
      "\n",
      "  Downloading plotly-5.24.1-py3-none-any.whl.metadata (7.3 kB)\n",
      "Collecting tenacity>=6.2.0 (from plotly)\n",
      "  Downloading tenacity-9.0.0-py3-none-any.whl.metadata (1.2 kB)\n",
      "Requirement already satisfied: packaging in c:\\users\\danny\\appdata\\roaming\\python\\python312\\site-packages (from plotly) (24.1)\n",
      "Downloading plotly-5.24.1-py3-none-any.whl (19.1 MB)\n",
      "   ---------------------------------------- 0.0/19.1 MB ? eta -:--:--\n",
      "   ----------------- ---------------------- 8.1/19.1 MB 50.4 MB/s eta 0:00:01\n",
      "   ---------------------------------------  18.9/19.1 MB 56.7 MB/s eta 0:00:01\n",
      "   ---------------------------------------- 19.1/19.1 MB 50.1 MB/s eta 0:00:00\n",
      "Downloading tenacity-9.0.0-py3-none-any.whl (28 kB)\n",
      "Installing collected packages: tenacity, plotly\n",
      "Successfully installed plotly-5.24.1 tenacity-9.0.0\n"
     ]
    }
   ],
   "source": [
    "pip install plotly.express"
   ]
  },
  {
   "cell_type": "code",
   "execution_count": null,
   "id": "e48b255d-31ec-41ca-a0b7-16b23def3a9c",
   "metadata": {},
   "outputs": [],
   "source": []
  }
 ],
 "metadata": {
  "kernelspec": {
   "display_name": "Python 3 (ipykernel)",
   "language": "python",
   "name": "python3"
  },
  "language_info": {
   "codemirror_mode": {
    "name": "ipython",
    "version": 3
   },
   "file_extension": ".py",
   "mimetype": "text/x-python",
   "name": "python",
   "nbconvert_exporter": "python",
   "pygments_lexer": "ipython3",
   "version": "3.12.5"
  },
  "widgets": {
   "application/vnd.jupyter.widget-state+json": {
    "state": {},
    "version_major": 2,
    "version_minor": 0
   }
  }
 },
 "nbformat": 4,
 "nbformat_minor": 5
}
