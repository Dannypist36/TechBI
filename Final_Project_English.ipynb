{
 "cells": [
  {
   "cell_type": "markdown",
   "id": "5daa76fe",
   "metadata": {
    "id": "5daa76fe"
   },
   "source": [
    "<center><h1>Capstone Project Creation</h1></center>\n",
    "<center><h3>IBM SkillsBuild Europe Delivery - Data Analytics</h3></center>\n",
    "\n",
    "\n",
    "# Pre-requisite\n",
    "\n",
    "* Understanding of Python, Power BI or Tableau\n",
    "* Understanding of Data Cleaning\n",
    "* Understanding Data Visualization\n",
    "\n",
    "#### Level of Exercise: Intermediate\n",
    "\n",
    "#### Duration: approximately 3 hours\n"
   ]
  },
  {
   "cell_type": "markdown",
   "id": "ce8639cb",
   "metadata": {
    "id": "ce8639cb"
   },
   "source": [
    "### Data Analytics of Airbnb Data:\n",
    "\n",
    "#### Objective:\n",
    "\n",
    "In this exericise, you will be performing Data Analytics on an Open Dataset dataset coming from Airbnb. Some of the tasks include\n",
    "- Data Cleaning.\n",
    "- Data Transformation\n",
    "- Data Visualization.\n",
    "\n",
    "#### Overview of Airbnb Data:\n",
    "\n",
    "People's main criteria when visiting new places are reasonable accommodation and food. Airbnb (Air-Bed-Breakfast) is an online marketplace created to meet this need of people by renting out their homes for a short term. They offer this facility at a relatively lower price than hotels. Further people worldwide prefer the homely and economical service offered by them. They offer services across various geographical locations\n",
    "\n",
    "#### Dataset Source\n",
    "\n",
    "YOu can get the dataset for this assessment using the following link: https://www.kaggle.com/datasets/arianazmoudeh/airbnbopendata\n",
    "\n",
    "This dataset contains information such as the neighborhood offering these services, room type, price,avaliabilty, reviews, service fee, cancellation policy and rules to use the house. This analysis will help airbnb in improving its services.  \n",
    "\n",
    "So all the best for your Data Analytics Journey on Airbnb data!!!"
   ]
  },
  {
   "cell_type": "markdown",
   "id": "9a86cf69",
   "metadata": {
    "id": "9a86cf69"
   },
   "source": [
    "## Task 1: Data Loading (Python)\n",
    "\n",
    "1. Read the csv file and load it into a pandas dataframe.\n",
    "2. Display the first five rows of your dataframe.\n",
    "3. Display the data types of the columns."
   ]
  },
  {
   "cell_type": "code",
   "execution_count": 1,
   "id": "3e5ea376",
   "metadata": {
    "id": "3e5ea376"
   },
   "outputs": [],
   "source": [
    "## Read the csv file\n"
   ]
  },
  {
   "cell_type": "code",
   "execution_count": 2,
   "id": "18c08d94",
   "metadata": {
    "id": "18c08d94"
   },
   "outputs": [],
   "source": [
    "## Display the first 5 rows\n"
   ]
  },
  {
   "cell_type": "code",
   "execution_count": 3,
   "id": "0e61d56e",
   "metadata": {
    "id": "0e61d56e"
   },
   "outputs": [],
   "source": [
    "## Display the data types\n"
   ]
  },
  {
   "cell_type": "markdown",
   "id": "0b2e801f",
   "metadata": {
    "id": "0b2e801f"
   },
   "source": [
    "## Task 2a: Data Cleaning (Any Tool)\n",
    "\n",
    "1. Drop some of the unwanted columns. These include `host id`, `id`, `country` and `country code` from the dataset.\n",
    "2. State the reason for not including these columns for your Data Analytics.\n",
    "\n",
    "If using Python for this exercise, please include the code in the cells below. If using any other tool, please include screenshoots before and after the elimination of the columns."
   ]
  },
  {
   "cell_type": "code",
   "execution_count": 4,
   "id": "3de0751f",
   "metadata": {
    "id": "3de0751f"
   },
   "outputs": [
    {
     "name": "stdout",
     "output_type": "stream",
     "text": [
      "Requirement already satisfied: pandoc in c:\\users\\danny\\appdata\\roaming\\jupyterlab-desktop\\jlab_server\\lib\\site-packages (2.4)\n",
      "Requirement already satisfied: plumbum in c:\\users\\danny\\appdata\\roaming\\jupyterlab-desktop\\jlab_server\\lib\\site-packages (from pandoc) (1.9.0)\n",
      "Requirement already satisfied: ply in c:\\users\\danny\\appdata\\roaming\\jupyterlab-desktop\\jlab_server\\lib\\site-packages (from pandoc) (3.11)\n",
      "Requirement already satisfied: pywin32 in c:\\users\\danny\\appdata\\roaming\\python\\python312\\site-packages (from plumbum->pandoc) (306)\n",
      "Note: you may need to restart the kernel to use updated packages.\n"
     ]
    }
   ],
   "source": [
    "pip install pandoc"
   ]
  },
  {
   "cell_type": "code",
   "execution_count": null,
   "id": "01bd2922-a607-4df9-a73e-204525d4d8a4",
   "metadata": {
    "id": "01bd2922-a607-4df9-a73e-204525d4d8a4"
   },
   "outputs": [],
   "source": []
  },
  {
   "cell_type": "code",
   "execution_count": null,
   "id": "b7537ecf-cf3f-4a64-8538-883ec723fad8",
   "metadata": {
    "id": "b7537ecf-cf3f-4a64-8538-883ec723fad8"
   },
   "outputs": [],
   "source": []
  },
  {
   "cell_type": "markdown",
   "id": "2071cce7",
   "metadata": {
    "id": "2071cce7"
   },
   "source": [
    "## Task 2b: Data Cleaning (Python)\n",
    "\n",
    "- Check for missing values in the dataframe and display the count in ascending order. **If the values are missing, impute the values as per the datatype of the columns.**\n",
    "- Check whether there are any duplicate values in the dataframe and, if present, remove them.\n",
    "- Display the total number of records in the dataframe before and after removing the duplicates."
   ]
  },
  {
   "cell_type": "code",
   "execution_count": 5,
   "id": "e78c0409",
   "metadata": {
    "id": "e78c0409"
   },
   "outputs": [],
   "source": [
    "## Check for missing values in the dataframe and display the count in ascending order.\n"
   ]
  },
  {
   "cell_type": "code",
   "execution_count": 6,
   "id": "7a691fba",
   "metadata": {
    "id": "7a691fba"
   },
   "outputs": [],
   "source": [
    "## Check whether there are any duplicate values in the dataframe and if present remove them.\n"
   ]
  },
  {
   "cell_type": "code",
   "execution_count": 7,
   "id": "5b1596fa",
   "metadata": {
    "id": "5b1596fa"
   },
   "outputs": [],
   "source": [
    "## Display the total number of records in the dataframe after removing the duplicates.\n"
   ]
  },
  {
   "cell_type": "markdown",
   "id": "1bf8912c",
   "metadata": {
    "id": "1bf8912c"
   },
   "source": [
    "## Task 3: Data Transformation (Any Tool)\n",
    "\n",
    "\n",
    "- Rename the column `availability 365` to `days_booked`\n",
    "- Convert all column names to lowercase and replace the spaces in the column names with an underscore \"_\".\n",
    "- Remove the dollar sign and comma from the columns `price` and `service_fee`. If necessary, convert these two columns to the appropriate data type.\n",
    "\n",
    "If using Python for this exercise, please include the code in the cells below. If using any other tool, please include screenshoots of your work."
   ]
  },
  {
   "cell_type": "code",
   "execution_count": 8,
   "id": "3adf9b6b",
   "metadata": {
    "id": "3adf9b6b"
   },
   "outputs": [],
   "source": [
    "## Rename the column.\n"
   ]
  },
  {
   "cell_type": "code",
   "execution_count": 9,
   "id": "9e968504",
   "metadata": {
    "id": "9e968504"
   },
   "outputs": [],
   "source": [
    "## Convert all column names to lowercase and replace the spaces with an underscore \"_\"\n"
   ]
  },
  {
   "cell_type": "code",
   "execution_count": 10,
   "id": "38430057",
   "metadata": {
    "id": "38430057"
   },
   "outputs": [],
   "source": [
    "## Remove the dollar sign and comma from the columns. If necessary, convert these two columns to the appropriate data type.\n"
   ]
  },
  {
   "cell_type": "markdown",
   "id": "f5fdef8b",
   "metadata": {
    "id": "f5fdef8b"
   },
   "source": [
    "### Task 4: Exploratory Data Analysis (Any Tool)\n",
    "\n",
    "- List the count of various room types avaliable in the dataset.\n",
    "- Which room type has the most strict cancellation policy?\n",
    "- List the average price per neighborhood group, and highlight the most expensive neighborhood to rent from.\n",
    "\n",
    "If using Python for this exercise, please include the code in the cells below. If using any other tool, please include screenshoots of your work."
   ]
  },
  {
   "cell_type": "code",
   "execution_count": 11,
   "id": "c171e196",
   "metadata": {
    "id": "c171e196"
   },
   "outputs": [],
   "source": [
    "## List the count of various room types avaliable with Airbnb\n"
   ]
  },
  {
   "cell_type": "code",
   "execution_count": 12,
   "id": "7f651811",
   "metadata": {
    "id": "7f651811"
   },
   "outputs": [],
   "source": [
    "## Which room type adheres to more strict cancellation policy\n"
   ]
  },
  {
   "cell_type": "code",
   "execution_count": 13,
   "id": "d01c1ac4",
   "metadata": {
    "id": "d01c1ac4"
   },
   "outputs": [],
   "source": [
    "## List the prices by neighborhood group and also mention which is the most expensive neighborhood group for rentals\n"
   ]
  },
  {
   "cell_type": "markdown",
   "id": "ca3ed1e6",
   "metadata": {
    "id": "ca3ed1e6"
   },
   "source": [
    "## Task 5a: Data Visualization (Any Tool)\n",
    "\n",
    "* List the count of various room types avaliable with Airnb\n",
    "* Which room type adheres to more strict cancellation policy\n",
    "* List the prices by neighborhood group and also mention which is the most expensive neighborhood group for rentals\n",
    "* List the top 10 neighborhoods in the increasing order of their price with the help of a horizontal bar graph. Which is the cheapest neighborhood.\n",
    "* List the neighborhoods which offer short term rentals within 10 days. Illustrate with a bar graph\n",
    "* List the prices with respect to room type using a bar graph and also state your inferences.\n",
    "* Create a pie chart that shows  distribution of booked days for each neighborhood group .Which neighborhood has the highest booking percentage.\n",
    "\n",
    "If using Python for this exercise, please include the code in the cells below. If using any other tool, please include screenshoots of your work."
   ]
  },
  {
   "cell_type": "code",
   "execution_count": null,
   "id": "4e5a6b74",
   "metadata": {
    "id": "4e5a6b74"
   },
   "outputs": [],
   "source": []
  },
  {
   "cell_type": "code",
   "execution_count": null,
   "id": "a4c17b11",
   "metadata": {
    "id": "a4c17b11"
   },
   "outputs": [],
   "source": []
  },
  {
   "cell_type": "code",
   "execution_count": null,
   "id": "2c28b705",
   "metadata": {
    "id": "2c28b705"
   },
   "outputs": [],
   "source": []
  },
  {
   "cell_type": "code",
   "execution_count": null,
   "id": "1d567723",
   "metadata": {
    "id": "1d567723"
   },
   "outputs": [],
   "source": []
  },
  {
   "cell_type": "markdown",
   "id": "9c313303",
   "metadata": {
    "id": "9c313303"
   },
   "source": [
    "## Task 5b: Data Visualization (Any Tool)\n",
    "\n",
    "* Does service price and room price have an impact on each other. Illustrate this relationship with a scatter plot and state your inferences\n",
    "* Using a line graph show in which year the maximum construction of rooms took place.\n",
    "\n",
    "If using Python for this exercise, please include the code in the cells below. If using any other tool, please include screenshoots of your work."
   ]
  },
  {
   "cell_type": "code",
   "execution_count": null,
   "id": "8c9d22b5",
   "metadata": {
    "id": "8c9d22b5"
   },
   "outputs": [],
   "source": []
  },
  {
   "cell_type": "code",
   "execution_count": null,
   "id": "343be5c4",
   "metadata": {
    "id": "343be5c4"
   },
   "outputs": [],
   "source": []
  },
  {
   "cell_type": "markdown",
   "id": "9db2466c",
   "metadata": {
    "id": "9db2466c"
   },
   "source": [
    "## Task 5c: Data Visualization (Any Tool)\n",
    "\n",
    "* With the help of box plots illustrate the following\n",
    " * Effect of Review Rate number on price\n",
    " * Effect of host identity verified on price\n",
    "\n",
    "If using Python for this exercise, please include the code in the cells below. If using any other tool, please include screenshoots of your work."
   ]
  },
  {
   "cell_type": "code",
   "execution_count": null,
   "id": "3f1fb0c3",
   "metadata": {
    "id": "3f1fb0c3"
   },
   "outputs": [],
   "source": []
  },
  {
   "cell_type": "code",
   "execution_count": null,
   "id": "fcdb016f",
   "metadata": {
    "id": "fcdb016f"
   },
   "outputs": [],
   "source": []
  },
  {
   "cell_type": "code",
   "execution_count": null,
   "id": "1d65f685",
   "metadata": {
    "id": "1d65f685"
   },
   "outputs": [],
   "source": []
  }
 ],
 "metadata": {
  "colab": {
   "provenance": []
  },
  "kernelspec": {
   "display_name": "Python 3 (ipykernel)",
   "language": "python",
   "name": "python3"
  },
  "language_info": {
   "codemirror_mode": {
    "name": "ipython",
    "version": 3
   },
   "file_extension": ".py",
   "mimetype": "text/x-python",
   "name": "python",
   "nbconvert_exporter": "python",
   "pygments_lexer": "ipython3",
   "version": "3.12.5"
  },
  "nteract": {
   "version": "0.28.0"
  },
  "widgets": {
   "application/vnd.jupyter.widget-state+json": {
    "state": {},
    "version_major": 2,
    "version_minor": 0
   }
  }
 },
 "nbformat": 4,
 "nbformat_minor": 5
}
